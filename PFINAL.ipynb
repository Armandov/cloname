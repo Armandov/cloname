{
 "cells": [
  {
   "cell_type": "markdown",
   "metadata": {},
   "source": [
    "# Practica 1"
   ]
  },
  {
   "cell_type": "markdown",
   "metadata": {},
   "source": [
    "### 1.1 ¿Que es Python?\n",
    "\n",
    "<p>PYTHON es un lenguaje de programación muy versátil que nos permite que sus aplicaciones sean variadas, por lo que se vuelve un programa multiparadigma, contando con un código abierto para consultar en todo momento de manera fácil, por lo que se le considera un lenguaje de nivel alto y altamente tipado, que tiene varias utilidades</p>"
   ]
  },
  {
   "cell_type": "markdown",
   "metadata": {},
   "source": [
    "### 1.2 ¿Es multiplataforma en que sistemas operativos funciona ? \n",
    "<p>Windows, Linux, IOS, Android</p>"
   ]
  },
  {
   "cell_type": "markdown",
   "metadata": {},
   "source": [
    "### 1.3 Escribir un programa que pregunte al usuario su nombre, y luego lo salude."
   ]
  },
  {
   "cell_type": "code",
   "execution_count": 118,
   "metadata": {},
   "outputs": [
    {
     "name": "stdout",
     "output_type": "stream",
     "text": [
      "Hola, es un gusto conocerte Anonimo\n"
     ]
    }
   ],
   "source": [
    "nombre = input(\"Introduzca su nonmre:\")\n",
    "print (\"Hola, es un gusto conocerte\",nombre)"
   ]
  },
  {
   "cell_type": "markdown",
   "metadata": {},
   "source": [
    "# Practica 2"
   ]
  },
  {
   "cell_type": "markdown",
   "metadata": {},
   "source": [
    "### 2.1 Escribir un programa que convierta un valor dado en grados Fahrenheit a grados Celsius. Recordar que la fórmula para la conversión es:"
   ]
  },
  {
   "cell_type": "code",
   "execution_count": 3,
   "metadata": {},
   "outputs": [
    {
     "name": "stdout",
     "output_type": "stream",
     "text": [
      "Grados Celcius: 232.77777777777777\n"
     ]
    }
   ],
   "source": [
    "fa = int(input(\"Introduzca grados Fehrenheit\"))\n",
    "cel = ((fa-32)*5)/9\n",
    "print (\"Grados Celcius:\",cel)"
   ]
  },
  {
   "cell_type": "markdown",
   "metadata": {},
   "source": [
    "### 2.2 Dados dos números, mostrar la suma, resta, división y multiplicación de ambos."
   ]
  },
  {
   "cell_type": "code",
   "execution_count": 4,
   "metadata": {},
   "outputs": [
    {
     "name": "stdout",
     "output_type": "stream",
     "text": [
      "la suma de 5 más 10 es: 15\n",
      "la resta de 5 más 10 es: -5\n",
      "la multiplicación de 5 más 10 es: 50\n",
      "la división de 5 más 10 es: 0.5\n"
     ]
    }
   ],
   "source": [
    "n1 = int(input(\"introduzca un numero\"))\n",
    "n2 = int(input(\"Introduzca otro numero\"))\n",
    "print(\"la suma de\",n1,\"más\",n2,\"es:\",n1+n2)\n",
    "print(\"la resta de\",n1,\"más\",n2,\"es:\",n1-n2)\n",
    "print(\"la multiplicación de\",n1,\"más\",n2,\"es:\",n1*n2)\n",
    "print(\"la división de\",n1,\"más\",n2,\"es:\",n1/n2)\n"
   ]
  },
  {
   "cell_type": "markdown",
   "metadata": {},
   "source": [
    "### 2.3 Calcular el perímetro y área de un rectángulo dada su base y su altura."
   ]
  },
  {
   "cell_type": "code",
   "execution_count": 2,
   "metadata": {},
   "outputs": [
    {
     "name": "stdout",
     "output_type": "stream",
     "text": [
      "el perimetro es 50 y el área es: 150\n"
     ]
    }
   ],
   "source": [
    "a = int(input(\"Introduzca la altura\"))\n",
    "b = int(input(\"Introduzca la base\"))\n",
    "print(\"el perimetro es\",a*2+b*2,\"y el área es:\",a*b)"
   ]
  },
  {
   "cell_type": "markdown",
   "metadata": {},
   "source": [
    "### 2.4 Calcular la media de tres números pedidos por teclado."
   ]
  },
  {
   "cell_type": "code",
   "execution_count": 1,
   "metadata": {},
   "outputs": [
    {
     "name": "stdout",
     "output_type": "stream",
     "text": [
      "el promedio es: 23.0\n"
     ]
    }
   ],
   "source": [
    "n1 = int(input(\"Introduzca numero 1\"))\n",
    "n2 = int(input(\"Introduzca numero 2\"))\n",
    "n3 = int(input(\"Introduzca numero 3\"))\n",
    "print (\"el promedio es:\",(n1+n2+n3)/3)"
   ]
  },
  {
   "cell_type": "markdown",
   "metadata": {},
   "source": [
    "# Practica 3\n",
    "\n",
    "### Simplifica la expresión 5+{{(3+1)}^2}.\n",
    "\n",
    "<p> 5+{{4}^2} <br>\n",
    "5+{16}<br>\n",
    "21 <br></p>"
   ]
  },
  {
   "cell_type": "markdown",
   "metadata": {},
   "source": [
    "### Simplifica la expresión 12-2{{(6-3)}^2}\\div 3.\n",
    "<p> 12-2{{3}^2}\\div 3 <br>\n",
    "12-2{9}\\div 3<br>\n",
    "12-2{3}<br>\n",
    "12-6<br>\n",
    "6</p>"
   ]
  },
  {
   "cell_type": "markdown",
   "metadata": {},
   "source": [
    "### Simplifica la expresión 12x+4[6-(3x+2)].\n",
    "\n",
    "<p>12x+4[6-3x-2]<br>\n",
    "12+4[4-3X]<br>\n",
    "12x+16-12x<br>\n",
    "16 </p>"
   ]
  },
  {
   "cell_type": "markdown",
   "metadata": {},
   "source": [
    "# Practica 4\n",
    "<p> 4.1 Realizar un programa que inicialice una lista con 10 valores aleatorios (del 1 al 10) y posteriormente muestre en pantalla cada elemento de la lista junto con su cuadrado y su cubo.</p>"
   ]
  },
  {
   "cell_type": "code",
   "execution_count": 16,
   "metadata": {},
   "outputs": [
    {
     "name": "stdout",
     "output_type": "stream",
     "text": [
      "6 su cuadrado 36 su cubo 216\n",
      "2 su cuadrado 4 su cubo 8\n",
      "4 su cuadrado 16 su cubo 64\n",
      "3 su cuadrado 9 su cubo 27\n",
      "5 su cuadrado 25 su cubo 125\n",
      "8 su cuadrado 64 su cubo 512\n",
      "2 su cuadrado 4 su cubo 8\n",
      "2 su cuadrado 4 su cubo 8\n",
      "8 su cuadrado 64 su cubo 512\n",
      "11 su cuadrado 121 su cubo 1331\n",
      "3 su cuadrado 9 su cubo 27\n"
     ]
    }
   ],
   "source": [
    "import random\n",
    "li =[]\n",
    "for i in range(0,11):\n",
    "    li.append(random.randint(1,11))\n",
    "for nu in li:\n",
    "    print(nu,\"su cuadrado\",nu**2,\"su cubo\",nu**3)"
   ]
  },
  {
   "cell_type": "markdown",
   "metadata": {},
   "source": [
    "<p>4.2 Crea una lista e inicializarla con 5 cadenas de caracteres leídas por teclado. Copia los elementos de la lista en otra lista pero en orden inverso, y muestra sus elementos por la pantalla.</p>"
   ]
  },
  {
   "cell_type": "code",
   "execution_count": 2,
   "metadata": {},
   "outputs": [
    {
     "name": "stdout",
     "output_type": "stream",
     "text": [
      "lista Introducida ['uno', 'dos', 'tres', 'cuatro', 'cinco']\n",
      "lista reversa ['cinco', 'cuatro', 'tres', 'dos', 'uno']\n",
      "osos\n",
      "tres\n",
      "\n",
      "dos\n",
      "uno\n"
     ]
    }
   ],
   "source": [
    "l_1 = []\n",
    "while len(l_1) < 5:\n",
    "    l_1.append(input(\"introduzca cadena\"))\n",
    "print (\"lista Introducida\",l_1)\n",
    "l_2 = l_1\n",
    "l_2.reverse()\n",
    "print(\"lista reversa\",l_2)\n",
    "\n"
   ]
  },
  {
   "cell_type": "markdown",
   "metadata": {},
   "source": [
    "<p>4.3 Se quiere realizar un programa que lea por teclado las 5 notas obtenidas por un alumno (comprendidas entre 0 y 10). A continuación debe mostrar todas las notas, la nota media, la nota más alta que ha sacado y la menor.</p>"
   ]
  },
  {
   "cell_type": "code",
   "execution_count": 4,
   "metadata": {},
   "outputs": [
    {
     "name": "stdout",
     "output_type": "stream",
     "text": [
      "[10, 5, 5, 10, 9]\n",
      "el promedio es: 7.8\n",
      "la calificación más alta: 10\n",
      "la calificación más baja: 5\n"
     ]
    }
   ],
   "source": [
    "calif = []\n",
    "for i in range(0,5):\n",
    "    calif.append(int(input(\"Introduzca nota\")))\n",
    "print(calif)\n",
    "print(\"el promedio es:\",sum(calif)/len(calif))\n",
    "print(\"la calificación más alta:\",max(calif))\n",
    "print(\"la calificación más baja:\",min(calif))\n",
    "\n"
   ]
  },
  {
   "cell_type": "markdown",
   "metadata": {},
   "source": [
    "<p>4.4 Codifica un programa en python que nos permita guardar los nombres de los alumnos de una clase y las notas que han obtenido. Cada alumno puede tener distinta cantidad de notas. Guarda la información en un diccionario cuya claves serán los nombres de los alumnos y los valores serán listados con las notas de cada alumno. </p>"
   ]
  },
  {
   "cell_type": "code",
   "execution_count": 55,
   "metadata": {},
   "outputs": [
    {
     "name": "stdout",
     "output_type": "stream",
     "text": [
      "{'alvaro': 10, 'erik': 10, 'yo': 10, 'joel': 10, 'lola': 5}\n"
     ]
    }
   ],
   "source": [
    "c_li = int(input(\"¿cuantos alumnos va a ingresar\"))\n",
    "dic = {}\n",
    "for i in range(0,c_li):\n",
    "    a = input(\"nombre del alumno\")\n",
    "    b = int(input(\"Su calificacion\"))\n",
    "    dic[a] = b \n",
    "print(dic)"
   ]
  },
  {
   "cell_type": "markdown",
   "metadata": {},
   "source": [
    "<p>4.5 Crea una tupla con los meses del año, pide números al usuario, si el número está entre 1 y la longitud máxima de la tupla, muestra el contenido de esa posición sino muestra un mensaje de error. El programa termina cuando el usuario introduce un cero.</p>"
   ]
  },
  {
   "cell_type": "code",
   "execution_count": 8,
   "metadata": {},
   "outputs": [
    {
     "name": "stdout",
     "output_type": "stream",
     "text": [
      "el numero 5 es el mes Mayo\n"
     ]
    }
   ],
   "source": [
    "meses = (\"Enero\",\"Febrero\",\"Marzo\",\"Abril\",\"Mayo\",\"Junio\",\"Julio\",\"Agosto\",\"Septiembre\",\"Octubre\",\"Noviembre\",\"Diciembre\")\n",
    "i = int(input(\"indtroduzca un numero :\"))\n",
    "while i > 12:\n",
    "    i = int(input(\"ERROR \\n indtroduzca un numero del 1 - 12:\"))\n",
    "else:\n",
    "    if i > 0 and i <= len(meses):\n",
    "        print(\"el numero\",i,\"es el mes\",meses[i-1])\n",
    "    elif i == 0:\n",
    "        print(\"BYE\")\n",
    "    else:\n",
    "        print(\"ERROR\")"
   ]
  },
  {
   "cell_type": "markdown",
   "metadata": {},
   "source": [
    "# Practica 5"
   ]
  },
  {
   "cell_type": "markdown",
   "metadata": {},
   "source": [
    "<p>5.1 Programa que imprima si el número es positivo o negativo</p>"
   ]
  },
  {
   "cell_type": "code",
   "execution_count": 1,
   "metadata": {},
   "outputs": [
    {
     "name": "stdout",
     "output_type": "stream",
     "text": [
      "Este número es positivo\n"
     ]
    }
   ],
   "source": [
    "num = int(input(\"Introduce un numero:\\n\"))\n",
    "\n",
    "if (num >= 0): \n",
    "    print(\"Este número es positivo\")\n",
    "else:\n",
    "    print (\"Este número es negativo\")\n",
    "\n"
   ]
  },
  {
   "cell_type": "markdown",
   "metadata": {},
   "source": [
    "<p>5.2 Programa que imprima si el número ingresado esta en el rango de 1 a 7</p>"
   ]
  },
  {
   "cell_type": "code",
   "execution_count": 4,
   "metadata": {},
   "outputs": [
    {
     "name": "stdout",
     "output_type": "stream",
     "text": [
      "el numero -5 NO esta en el rango del 1 al 7\n"
     ]
    }
   ],
   "source": [
    "n = int(input(\"Introduzca un numero\\n\"))\n",
    "if n>=1 and n<=7:\n",
    "    print (\"el numero\",n,\"esta en el rango del 1 al 7\")\n",
    "else:\n",
    "    print(\"el numero\",n,\"NO esta en el rango del 1 al 7\")"
   ]
  },
  {
   "cell_type": "markdown",
   "metadata": {},
   "source": [
    "<p>5.3 Programa que reciba un monto y un interes mensual, el cual debe ser mayor al 30%, si este es menor deberá mandar un mensaje de error y deberá introducir\n",
    "nuevamente el interés, si el interés es es correcto deberá imprimir el monto, el interés a pagar y monto final </p>"
   ]
  },
  {
   "cell_type": "code",
   "execution_count": 6,
   "metadata": {},
   "outputs": [
    {
     "name": "stdout",
     "output_type": "stream",
     "text": [
      "El monto es $ 1500.0 que le genera un interes de $ 450.0 lo por cual pagará $ 1950.0\n"
     ]
    }
   ],
   "source": [
    "mon = float(input(\"Introduzca el monto\\n\"))\n",
    "inte = int(input(\"Introduzca el interes\\n\"))\n",
    "while inte < 30:\n",
    "    inte = int(input(\"ERROR\\nIntroduzca un interes mayor a 30%\\n\"))\n",
    "else:\n",
    "    inte_n = mon*(inte*0.01)\n",
    "    print(\"El monto es $\",mon,\"que le genera un interes de $\",inte_n,\"lo por cual pagará $\",(mon+inte_n))"
   ]
  },
  {
   "cell_type": "markdown",
   "metadata": {},
   "source": [
    "# Practica 6\n",
    "\n",
    "<p>6.1 Realizar un ejemplo de menú, donde podemos escoger las distintas opciones hasta que seleccionamos la opción de “Salir”.</p>"
   ]
  },
  {
   "cell_type": "code",
   "execution_count": 22,
   "metadata": {},
   "outputs": [
    {
     "name": "stdout",
     "output_type": "stream",
     "text": [
      "INTRODUCE 2 NÚMEROS\n",
      "Bienvenido al menú\n",
      "OPCIONES \n",
      " 1.SUMAR    2. RESTAR    3.DIVISIÓN    4.MULTIPLICACIÓN    5.EXPONENTE   0.SALIR\n",
      "ERROR DE OPCIÓN\n",
      "OPCIONES \n",
      " 1.SUMAR    2. RESTAR    3.DIVISIÓN    4.MULTIPLICACIÓN    5.EXPONENTE   0.SALIR\n",
      "ERROR DE OPCIÓN\n",
      "OPCIONES \n",
      " 1.SUMAR    2. RESTAR    3.DIVISIÓN    4.MULTIPLICACIÓN    5.EXPONENTE   0.SALIR\n",
      "ERROR DE OPCIÓN\n",
      "OPCIONES \n",
      " 1.SUMAR    2. RESTAR    3.DIVISIÓN    4.MULTIPLICACIÓN    5.EXPONENTE   0.SALIR\n",
      "SALIR\n"
     ]
    }
   ],
   "source": [
    "import time\n",
    "print(\"INTRODUCE 2 NÚMEROS\")\n",
    "time.sleep(2)\n",
    "n1 = int(input(\"Valor 1\\n\"))\n",
    "n2 = int(input(\"Valor 2\\n\"))\n",
    "print(\"Bienvenido al menú\")\n",
    "time.sleep(2)\n",
    "men = int(input(\"Para continuar presione cualquier numero \\nPara salir presione 0:\\n\"))\n",
    "while men != 0:\n",
    "    print(\"OPCIONES \\n 1.SUMAR    2. RESTAR    3.DIVISIÓN    4.MULTIPLICACIÓN    5.EXPONENTE   0.SALIR\")\n",
    "    op = int(input(\"introduzca su opción\"))\n",
    "\n",
    "    if op == 1:\n",
    "        print(\"Bienvenido a la funcion suma\")\n",
    "        time.sleep(2)\n",
    "        print(\"El resultado es:\",n1+n2)\n",
    "\n",
    "    elif op == 2:\n",
    "        print(\"Bienvenido a la funcion resta\")\n",
    "        time.sleep(2)\n",
    "        print(\"El resultado es:\",n1-n2)\n",
    "    elif op == 3:\n",
    "        print(\"Bienvenido a la funcion división\")\n",
    "        time.sleep(2)\n",
    "        print(\"El resultado es:\",n1/n2)\n",
    "    elif op == 4:\n",
    "        print(\"Bienvenido a la funcion multiplicar\")\n",
    "        \n",
    "        time.sleep(2)\n",
    "        print(\"El resultado es:\",n1*n2)\n",
    "    elif op == 5:\n",
    "        print(\"Bienvenido a la funcion Exponenete\")\n",
    "        time.sleep(2)\n",
    "        print(\"El resultado es:\",n1**n2)\n",
    "    elif op == 0:\n",
    "        print(\"SALIR\")\n",
    "        break\n",
    "    else:\n",
    "        print(\"ERROR DE OPCIÓN\")\n",
    "else:\n",
    "    print(\"SALIR\")\n",
    "\n"
   ]
  },
  {
   "cell_type": "markdown",
   "metadata": {},
   "source": [
    "<p>6.2 Mostrar en pantalla los N primero número primos. Se pide por teclado la cantidad de números primos que queremos mostrar.</p>"
   ]
  },
  {
   "cell_type": "code",
   "execution_count": 2,
   "metadata": {},
   "outputs": [
    {
     "name": "stdout",
     "output_type": "stream",
     "text": [
      "[3, 5, 7]\n"
     ]
    }
   ],
   "source": [
    "import math\n",
    "lista=[]\n",
    "num = int(input('ingresa el rango de primos'))\n",
    "for i in range(3,num, 2):\n",
    " soy=True \n",
    " for j in range(3,int(math.sqrt(i))+1,2):\n",
    "  if i%j==0:\n",
    "   soy=False\n",
    " if soy:lista.append(i)\n",
    "print(lista)"
   ]
  },
  {
   "cell_type": "markdown",
   "metadata": {},
   "source": [
    "<p>6.3 Una persona adquirió un producto para pagar en 20 meses. El primer mes pagó 10 €, el segundo 20 €, el tercero 40 € y así sucesivamente. Realizar un algoritmo para determinar cuánto debe pagar mensualmente y el total de lo que pagó después de los 20 meses.</p>"
   ]
  },
  {
   "cell_type": "code",
   "execution_count": 37,
   "metadata": {},
   "outputs": [
    {
     "name": "stdout",
     "output_type": "stream",
     "text": [
      "MES 1 paga 10\n",
      "MES 2 paga 20\n",
      "MES 3 paga 40\n",
      "MES 4 paga 80\n",
      "MES 5 paga 160\n",
      "MES 6 paga 320\n",
      "MES 7 paga 640\n",
      "MES 8 paga 1280\n",
      "MES 9 paga 2560\n",
      "MES 10 paga 5120\n",
      "MES 11 paga 10240\n",
      "MES 12 paga 20480\n",
      "MES 13 paga 40960\n",
      "MES 14 paga 81920\n",
      "MES 15 paga 163840\n",
      "MES 16 paga 327680\n",
      "MES 17 paga 655360\n",
      "MES 18 paga 1310720\n",
      "MES 19 paga 2621440\n",
      "MES 20 paga 5242880\n"
     ]
    }
   ],
   "source": [
    "deu = 10\n",
    "print(\"MES 1 paga\",deu)\n",
    "\n",
    "for i in range (2,21):\n",
    "    re = (deu *2)\n",
    "    print(\"MES\",i,\"paga\",re)\n",
    "    deu = re"
   ]
  },
  {
   "cell_type": "markdown",
   "metadata": {},
   "source": [
    "<p>Crea una aplicación que pida un número y calcule su factorial (El factorial de un número es el producto de todos los enteros entre 1 y el propio número y se representa por el número seguido de un signo de exclamación. Por ejemplo 5! = 1x2x3x4x5=120).</p>"
   ]
  },
  {
   "cell_type": "code",
   "execution_count": 2,
   "metadata": {},
   "outputs": [
    {
     "name": "stdout",
     "output_type": "stream",
     "text": [
      "[1, 2, 3, 4, 5] factorización 120\n"
     ]
    }
   ],
   "source": [
    "fac = int(input(\"NUMERO A FACTORIZAR\"))\n",
    "li = []\n",
    "re = 1\n",
    "for i in range(1,fac+1):\n",
    "    li.append(i)\n",
    "    re *= i \n",
    "print(li, \"factorización\",re)"
   ]
  },
  {
   "cell_type": "markdown",
   "metadata": {},
   "source": [
    "# Practica 7 \n",
    "\n",
    "<p>7.1 Ejercicio 1\n",
    "\n",
    "Vamos a crear una clase llamada Persona. Sus atributos son: nombre, edad y DNI. Construye los siguientes métodos para la clase:\n",
    "\n",
    "    >   Un constructor, donde los datos pueden estar vacíos.\n",
    "    >   Los setters y getters para cada uno de los atributos. Hay que validar las entradas de datos.\n",
    "    >   mostrar(): Muestra los datos de la persona.\n",
    "    >   esMayorDeEdad(): Devuelve un valor lógico indicando si es mayor de edad.\n",
    "</p>"
   ]
  },
  {
   "cell_type": "code",
   "execution_count": 1,
   "metadata": {},
   "outputs": [
    {
     "name": "stdout",
     "output_type": "stream",
     "text": [
      "Nombre: Alvaro Edad: 22 DNI: dn1skdj\n",
      "Mi Nombre es: Alvaro\n",
      "Tengo : 22\n",
      "DNI: dn1skdj\n",
      "Se modifico edad\n",
      "Se modifico nombre\n",
      "Se modifico DNI\n",
      "Nombre: Fernando Edad: 17 DNI: 1802FES\n",
      "Es MENOR de edad\n"
     ]
    }
   ],
   "source": [
    "\n",
    "class Persona:\n",
    "    def __init__(self,nombre,edad,dni):\n",
    "        self._nombre = nombre\n",
    "        self._edad = int(edad)\n",
    "        self._dni = dni\n",
    "    \n",
    "    @property\n",
    "    def nombre(self):\n",
    "        return f'Mi Nombre es: {self._nombre}'\n",
    "    \n",
    "    @nombre.setter\n",
    "    def nombre(self,nombre):\n",
    "        self._nombre = nombre\n",
    "        print('Se modifico nombre')\n",
    "\n",
    "    @property\n",
    "    def edad(self):\n",
    "        return f'Tengo : {self._edad}'\n",
    "\n",
    "    @edad.setter\n",
    "    def edad(self,edad):\n",
    "        self._edad = int(edad) \n",
    "        print('Se modifico edad')\n",
    "    @property\n",
    "    def dni(self):\n",
    "        return f'DNI: {self._dni}'\n",
    "\n",
    "    @dni.setter\n",
    "    def dni(self,dni):\n",
    "        self._dni = dni\n",
    "        print('Se modifico DNI')\n",
    "\n",
    "    def mostrar(self):\n",
    "        print(f'Nombre: {self._nombre} Edad: {self._edad} DNI: {self._dni}')\n",
    "    \n",
    "    def esMayorDeEdad(self):\n",
    "        if self._edad >= 18:\n",
    "            print('Es mayor de edad')\n",
    "        else:\n",
    "            print('Es MENOR de edad')\n",
    "\n",
    "alvaro = Persona('Alvaro',22,\"dn1skdj\")\n",
    "alvaro.mostrar()\n",
    "print(alvaro.nombre)\n",
    "print(alvaro.edad)\n",
    "print(alvaro.dni)\n",
    "alvaro.edad = '17'\n",
    "alvaro.nombre = \"Fernando\"\n",
    "alvaro.dni = '1802FES'\n",
    "alvaro.mostrar()\n",
    "alvaro.esMayorDeEdad()\n",
    "\n"
   ]
  },
  {
   "cell_type": "markdown",
   "metadata": {},
   "source": [
    "<p>7.2 Ejercicio 2\n",
    "\n",
    "Crea una clase llamada Cuenta que tendrá los siguientes atributos: titular (que es una persona) y cantidad (puede tener decimales). El titular será obligatorio y la cantidad es opcional. Construye los siguientes métodos para la clase:\n",
    "\n",
    "    >   Un constructor, donde los datos pueden estar vacíos.\n",
    "    >   Los setters y getters para cada uno de los atributos. El atributo no se puede modificar directamente, sólo ingresando o retirando dinero.\n",
    "    >   mostrar(): Muestra los datos de la cuenta.\n",
    "    >   ingresar(cantidad): se ingresa una cantidad a la cuenta, si la cantidad introducida es negativa, no se hará nada.\n",
    "    >   retirar(cantidad): se retira una cantidad a la cuenta. La cuenta puede estar en números rojos.\n",
    "</p>"
   ]
  },
  {
   "cell_type": "code",
   "execution_count": 15,
   "metadata": {},
   "outputs": [
    {
     "name": "stdout",
     "output_type": "stream",
     "text": [
      "TITULAR: Alvaro Solis SALDO: $500\n",
      "NUEVO Titular\n",
      "El titular es: Fernando Gomez\n",
      "Cuenta con $500\n",
      "Retiro $200, su nuevo saldo es $300\n",
      "Ingrese una cantidad mayor a 0\n",
      "Ingreso $1000, su nuevo saldo es $1300\n"
     ]
    },
    {
     "data": {
      "text/plain": [
       "'TITULAR: Fernando Gomez SALDO: $1300'"
      ]
     },
     "execution_count": 15,
     "metadata": {},
     "output_type": "execute_result"
    }
   ],
   "source": [
    "class Cuenta:\n",
    "    def __init__(self, titular, saldo):\n",
    "        self._titular = titular\n",
    "        self._saldo = saldo\n",
    "    \n",
    "    @property\n",
    "    def titular(self):\n",
    "        return f'El titular es: {self._titular}'\n",
    "    \n",
    "    @titular.setter\n",
    "    def titular(self,titular):\n",
    "        self._titular = titular\n",
    "        print('NUEVO Titular')\n",
    "    @property\n",
    "    def saldo(self):\n",
    "        return f'Cuenta con ${self._saldo}'\n",
    "    \n",
    "    def retirar(self,saldo):\n",
    "        nuevo_saldo = self._saldo - int(saldo)\n",
    "        self._saldo = nuevo_saldo\n",
    "        print( f'Retiro ${saldo}, su nuevo saldo es ${nuevo_saldo}')\n",
    "    \n",
    "    def ingresar(self,saldo):\n",
    "        if saldo > 0:\n",
    "            nuevo_saldo = self._saldo + int(saldo)\n",
    "            self._saldo = nuevo_saldo\n",
    "            print( f'Ingreso ${saldo}, su nuevo saldo es ${nuevo_saldo}')\n",
    "        else:\n",
    "            print(\"Ingrese una cantidad mayor a 0\")\n",
    "        \n",
    "    def mostrar(self):\n",
    "        return f'TITULAR: {self._titular} SALDO: ${self._saldo}'\n",
    "\n",
    "cuenta1 = Cuenta(\"Alvaro Solis\",500)\n",
    "print(cuenta1.mostrar())\n",
    "cuenta1.titular = \"Fernando Gomez\"\n",
    "print(cuenta1.titular)\n",
    "print(cuenta1.saldo)\n",
    "cuenta1.retirar(200)\n",
    "cuenta1.ingresar(0)\n",
    "cuenta1.ingresar(1000)\n",
    "cuenta1.mostrar()\n"
   ]
  },
  {
   "cell_type": "markdown",
   "metadata": {},
   "source": [
    "<p>7.3 Ejercicio 3\n",
    "\n",
    "Vamos a definir ahora una “Cuenta Joven”, para ello vamos a crear una nueva clase Cuenta Joven que deriva de la anterior. Cuando se crea esta nueva clase, además del titular y la cantidad se debe guardar una bonificación que estará expresada en tanto por ciento.Construye los siguientes métodos para la clase:\n",
    "\n",
    "    >   Un constructor.\n",
    "    >   Los setters y getters para el nuevo atributo.\n",
    "    >   En esta ocasión los titulares de este tipo de cuenta tienen que ser mayor de edad;, por lo tanto hay que crear un método es Titular Válido ( ) que devuelve verdadero si el titular es mayor de edad pero menor de 25 años y falso en caso contrario.\n",
    "    >   Además la retirada de dinero sólo se podrá hacer si el titular es válido.\n",
    "    >   El método mostrar() debe devolver el mensaje de “Cuenta Joven” y la bonificación de la cuenta.\n",
    "    >   Piensa los métodos heredados de la clase madre que hay que reescribir.</p>"
   ]
  },
  {
   "cell_type": "code",
   "execution_count": 17,
   "metadata": {},
   "outputs": [
    {
     "name": "stdout",
     "output_type": "stream",
     "text": [
      "El titular es: Alejo Sanchez\n",
      "Cuenta con $5000\n",
      "Su edad es: 18\n",
      "Titular Valido\n",
      "-------------------Cuenta Joven-------------------\n",
      "TITULAR: Alejo Sanchez SALDO: $5000\n",
      "Bonificacion del 5% $5250.0 \n",
      "--------------------------------------------------\n",
      "Retiro $1000, su nuevo saldo es $4000\n",
      "Se modifico la edad\n",
      "Titular Invalido\n",
      "Ingreso $500, su nuevo saldo es $4500\n",
      "-------------------Cuenta Joven-------------------\n",
      "TITULAR: Alejo Sanchez SALDO: $4500\n",
      "Bonificacion del 5% $4750.0 \n",
      "--------------------------------------------------\n",
      "El titular es: Armando\n",
      "Cuenta con $54000\n",
      "Su edad es: 48\n",
      "Titular Invalido\n",
      "-------------------Cuenta Joven-------------------\n",
      "TITULAR: Armando SALDO: $54000\n",
      "Bonificacion del 5% $56700.0 \n",
      "--------------------------------------------------\n",
      "Se modifico la edad\n",
      "Titular Invalido\n",
      "Ingreso $500, su nuevo saldo es $54500\n",
      "-------------------Cuenta Joven-------------------\n",
      "TITULAR: Armando SALDO: $54500\n",
      "Bonificacion del 5% $57200.0 \n",
      "--------------------------------------------------\n"
     ]
    }
   ],
   "source": [
    "class CuentaJoven(Cuenta):\n",
    "    def __init__(self, titular, saldo,edad):\n",
    "        super().__init__(titular, saldo)\n",
    "        self._edad = int(edad)\n",
    "        self.bon = self._saldo*0.05\n",
    "        \n",
    "    def retirar(self, saldo):\n",
    "        if self._edad >= 18 and self._edad <= 25:\n",
    "            return super().retirar(saldo)\n",
    "        else:\n",
    "            return f\"USUARIO INVALIDO No se realizó retiro\"\n",
    "    \n",
    "    @property\n",
    "    def edad(self):\n",
    "        return f\"Su edad es: {self._edad}\"\n",
    "    \n",
    "    @edad.setter\n",
    "    def edad(self,edad):\n",
    "        self._edad = int(edad)\n",
    "        print(f\"Se modifico la edad\")\n",
    "    \n",
    "    def validar_titular(self):\n",
    "        if self._edad >= 18 and self._edad <= 25:\n",
    "            print(\"Titular Valido\")\n",
    "        else:\n",
    "            print(\"Titular Invalido\")\n",
    "    def mostrar(self):\n",
    "        print (\"Cuenta Joven\".center(50,\"-\"))\n",
    "        print(f\"TITULAR: {self._titular} SALDO: ${self._saldo}\")\n",
    "        print(f\"Bonificacion del 5% ${self.bon + self._saldo} \")\n",
    "        print(\"-\"*50)\n",
    "            \n",
    "cuentaj1 = CuentaJoven(\"Alejo Sanchez\",5000,18)\n",
    "print(cuentaj1.titular)\n",
    "print(cuentaj1.saldo)\n",
    "print(cuentaj1.edad)\n",
    "cuentaj1.validar_titular()\n",
    "cuentaj1.mostrar()\n",
    "cuentaj1.retirar(1000)\n",
    "cuentaj1.edad = 26\n",
    "cuentaj1.validar_titular()\n",
    "cuentaj1.retirar(1000)\n",
    "cuentaj1.ingresar(500)\n",
    "cuentaj1.mostrar()\n",
    "\n",
    "cuentajjr = CuentaJoven(\"Armando\",54000,45)\n",
    "print(cuentajjr.titular)\n",
    "print(cuentajjr.saldo)\n",
    "print(cuentajjr.edad)\n",
    "cuentajjr.validar_titular()\n",
    "cuentajjr.mostrar()\n",
    "cuentajjr.retirar(1000)\n",
    "cuentajjr.edad = 26\n",
    "cuentajjr.validar_titular()\n",
    "cuentajjr.retirar(1000)\n",
    "cuentajjr.ingresar(500)\n",
    "cuentajjr.mostrar()\n"
   ]
  },
  {
   "cell_type": "markdown",
   "metadata": {},
   "source": [
    "## Practica 8\n",
    "\n",
    "<p>8.1 Ejercicio 1\n",
    "\n",
    "Escribe un programa python que pida un número por teclado y que cree un diccionario cuyas claves sean desde el número 1 hasta el número indicado, y los valores sean los cuadrados de las claves.</p>"
   ]
  },
  {
   "cell_type": "code",
   "execution_count": 19,
   "metadata": {},
   "outputs": [
    {
     "name": "stdout",
     "output_type": "stream",
     "text": [
      "{1: 1, 2: 4, 3: 9, 4: 16, 5: 25}\n"
     ]
    }
   ],
   "source": [
    "num = int(input(\"Introduce un número:\"))\n",
    "dic = {}\n",
    "for n in range(1,num+1):\n",
    "    dic[n]=n**2\n",
    "print(dic)"
   ]
  },
  {
   "cell_type": "markdown",
   "metadata": {},
   "source": [
    "<p>8.2 Ejercicio 2\n",
    "\n",
    "Escribe un programa que lea una cadena y devuelva un diccionario con la cantidad de apariciones de cada carácter en la cadena.</p>"
   ]
  },
  {
   "cell_type": "code",
   "execution_count": 20,
   "metadata": {},
   "outputs": [
    {
     "name": "stdout",
     "output_type": "stream",
     "text": [
      "hola mundo\n",
      "{'h': 1, 'o': 2, 'l': 1, 'a': 1, ' ': 1, 'm': 1, 'u': 1, 'n': 1, 'd': 1}\n"
     ]
    }
   ],
   "source": [
    "frase = input(\"Escriba una cadena\")\n",
    "dic = {}\n",
    "conta = 0\n",
    "for l in frase:\n",
    "    dic[l] = frase.count(l)\n",
    "\n",
    "print(frase)\n",
    "print(dic)"
   ]
  },
  {
   "cell_type": "markdown",
   "metadata": {},
   "source": [
    "<p>8.3 Ejercicio 3 \n",
    "\n",
    "Vamos a crear un programa en python donde vamos a declarar un diccionario para guardar los precios de las distintas frutas. El programa pedirá el nombre de la fruta y la cantidad que se ha vendido y nos mostrará el precio final de la fruta a partir de los datos guardados en el diccionario. Si la fruta no existe nos dará un error. Tras cada consulta el programa nos preguntará si queremos hacer otra consulta.</p>"
   ]
  },
  {
   "cell_type": "code",
   "execution_count": 36,
   "metadata": {},
   "outputs": [
    {
     "name": "stdout",
     "output_type": "stream",
     "text": [
      "Se compro 6 kilos de uva \n",
      "se paga 600\n",
      "Se compro 7 kilos de pera \n",
      "se paga 245\n",
      "HASTA LUEGO\n"
     ]
    }
   ],
   "source": [
    "dic = {\"manzana\":50,\"pera\":35,\"uva\":100,\"durazno\":70,\"fresa\":90}\n",
    "re = int(input('Quieres hacer una consulta \\n 1.Si o SALIR con cualquier otro numero'))\n",
    "while re == 1:\n",
    "    fruta = input('Elige la fruta:')\n",
    "    fruta = fruta.lower()\n",
    "    cantidad = int(input('Kilos vendidos:'))\n",
    "    if fruta in dic.keys():\n",
    "        precio = dic[fruta]\n",
    "        total = precio * cantidad\n",
    "        print(f'Se compro {cantidad} kilos de {fruta} \\nse paga {total}')\n",
    "        \n",
    "    else:\n",
    "        print(f\"{fruta} NO EXISTE\")\n",
    "    \n",
    "        \n",
    "    re = int(input('Quieres hacer una consulta \\n 1.Si o SALIR con cualquier otro numero'))\n",
    "else:\n",
    "    print('HASTA LUEGO')\n",
    "\n"
   ]
  },
  {
   "cell_type": "markdown",
   "metadata": {},
   "source": [
    "## Pactica 9 \n",
    "\n",
    "<p>9.1 Ejercicio 1 \n",
    "\n",
    "Realice un programa que pregunte aleatoriamente una multiplicación. El programa debe indicar si la respuesta ha sido correcta o no (en caso que la respuesta sea incorrecta el programa debe indicar cuál es la correcta). El programa preguntará 10 multiplicaciones, y al finalizar mostrará el número de aciertos.</p>"
   ]
  },
  {
   "cell_type": "code",
   "execution_count": 3,
   "metadata": {},
   "outputs": [
    {
     "name": "stdout",
     "output_type": "stream",
     "text": [
      "6  X  1\n",
      "6  X  6\n",
      "9  X  9\n",
      "1  X  9\n",
      "6  X  1\n",
      "8  X  1\n",
      "2  X  4\n",
      "3  X  4\n",
      "10  X  1\n",
      "3  X  8\n",
      "\n",
      "\tEl número de asiertos es:  2 , y errores:  8\n"
     ]
    }
   ],
   "source": [
    "import random\n",
    "buenas = 0\n",
    "malas = 0\n",
    "for n in range(0,10):\n",
    "    num1 = random.randint(1,10)\n",
    "    num2 = random.randint(1,10)\n",
    "    re = num1*num2\n",
    "    print(f\"Pregunta {n+1} multuplica {num1}X{num2}\")\n",
    "    re2 = int(input(\"Respuesta\"))\n",
    "    if re == re2:\n",
    "        buenas += 1\n",
    "        print(\"Respuesta Correcta\")\n",
    "    else:\n",
    "        malas += 1\n",
    "        print(f\"INCORRECTO, Respuesta: {re}\")\n",
    "\n",
    "print(f\"Tuviste {buenas} ACIERTOS | {malas} ERRORES\")\n",
    "\n"
   ]
  },
  {
   "cell_type": "code",
   "execution_count": null,
   "metadata": {},
   "outputs": [],
   "source": [
    "import random\n",
    "\n",
    "asiertos = 0\n",
    "errores  = 0\n",
    "for i in range(10):\n",
    "    \n",
    "    # obtiene dos numeros aleatorios\n",
    "    valor1 = random.randint(1,10)\n",
    "    valor2 = random.randint(1,10)\n",
    "\n",
    "    # realiza multiplicación \n",
    "    resultOK = valor1 * valor2\n",
    "    print(valor1,\" X \",valor2 )\n",
    "\n",
    "    # pregunta resultado\n",
    "    resultUser = int(input(\"¿Cual es el resultado...? \"))\n",
    "\n",
    "    # evalua resultado y los contabiliza\n",
    "    if resultOK == resultUser:\n",
    "        asiertos = asiertos + 1\n",
    "    else:\n",
    "        errores = errores + 1\n",
    "\n",
    "print(\"\\n\\tEl número de asiertos es: \", asiertos, \", y errores: \", errores)"
   ]
  },
  {
   "cell_type": "markdown",
   "metadata": {},
   "source": [
    "<p>9.2 Ejercicio 2\n",
    "\n",
    "Obtener el cuadrado de todos los elementos en la lista. Lista: 1,2,3,4,5,6,7,8,9,10</p>"
   ]
  },
  {
   "cell_type": "code",
   "execution_count": 7,
   "metadata": {},
   "outputs": [
    {
     "name": "stdout",
     "output_type": "stream",
     "text": [
      "[1, 2, 3, 4, 5, 6, 7, 8, 9, 10]\n",
      "[1, 4, 9, 16, 25, 36, 49, 64, 81, 100]\n"
     ]
    }
   ],
   "source": [
    "li = [1,2,3,4,5,6,7,8,9,10]\n",
    "li2 = []\n",
    "print(li)\n",
    "for i in li:\n",
    "    li2.append(i**2)\n",
    "print(li2)\n",
    "\n"
   ]
  },
  {
   "cell_type": "code",
   "execution_count": 8,
   "metadata": {},
   "outputs": [
    {
     "name": "stdout",
     "output_type": "stream",
     "text": [
      "MAP [1, 4, 9, 16, 25, 36, 49, 64, 81, 100]\n"
     ]
    }
   ],
   "source": [
    "lista = [1,2,3,4,5,6,7,8,9,10]\n",
    "\n",
    "# calcula cuadradro\n",
    "def calcula(i = 0):\n",
    "    return i * i\n",
    "\n",
    "# utilizacion de MAP\n",
    "res = list( map(calcula, lista) )\n",
    "\n",
    "print(\"MAP\",res)\n"
   ]
  },
  {
   "cell_type": "markdown",
   "metadata": {},
   "source": [
    "<p>9.3 Ejercicio 3 \n",
    "\n",
    "Obtener la cantidad de elementos mayores a 5 en la tupla. tupla = (5,2,6,7,8,10,77,55,2,1,30,4,2,3)</p>"
   ]
  },
  {
   "cell_type": "code",
   "execution_count": 2,
   "metadata": {},
   "outputs": [
    {
     "name": "stdout",
     "output_type": "stream",
     "text": [
      "(5, 2, 6, 7, 8, 10, 77, 55, 2, 1, 30, 4, 2, 3)\n",
      "[6, 7, 8, 10, 77, 55, 30]\n",
      "7\n"
     ]
    }
   ],
   "source": [
    "tu = (5,2,6,7,8,10,77,55,2,1,30,4,2,3)\n",
    "li = []\n",
    "for i in tu:\n",
    "    if i > 5:\n",
    "        li.append(i)\n",
    "    else:\n",
    "        pass\n",
    "print(tu)\n",
    "print(li)\n",
    "\n",
    "tupla = (5,2,6,7,8,10,77,55,2,1,30,4,2,3)\n",
    "def mayor_a_cinco(elemento):\n",
    "    return elemento > 5\n",
    "tupla = (5,2,6,7,8,10,77,55,2,1,30,4,2,3)\n",
    "resultado = tuple(filter( mayor_a_cinco, tupla))\n",
    "resultado = len(resultado)\n",
    "print(resultado)\n"
   ]
  },
  {
   "cell_type": "code",
   "execution_count": 10,
   "metadata": {},
   "outputs": [
    {
     "name": "stdout",
     "output_type": "stream",
     "text": [
      "aplicación de FILTER 7\n"
     ]
    }
   ],
   "source": [
    "tupla = (5,2,6,7,8,10,77,55,2,1,30,4,2,3)\n",
    "\n",
    "# evalua elementos mayores a cinco\n",
    "def mayores(elemento):\n",
    "    return elemento > 5\n",
    "\n",
    "tupla = (5,2,6,7,8,10,77,55,2,1,30,4,2,3)\n",
    "\n",
    "# aplicación de FILTER\n",
    "resultado = tuple(filter(mayores, tupla))\n",
    "resultado = len(resultado)\n",
    "print(\"aplicación de FILTER\",resultado)\n"
   ]
  },
  {
   "cell_type": "markdown",
   "metadata": {},
   "source": [
    "<p>9.4 Ejercicio 4 \n",
    "\n",
    "Obtener la suma de todos los elementos en la lista</p>"
   ]
  },
  {
   "cell_type": "code",
   "execution_count": 12,
   "metadata": {},
   "outputs": [
    {
     "name": "stdout",
     "output_type": "stream",
     "text": [
      "la suma de [1, 2, 3, 4, 5, 6, 7, 8, 9, 10] es 55\n"
     ]
    }
   ],
   "source": [
    "li = [1,2,3,4,5,6,7,8,9,10]\n",
    "re=0\n",
    "for i in li:\n",
    "    re = re + i\n",
    "\n",
    "print(f'la suma de {li} es {re}')\n",
    "\n"
   ]
  },
  {
   "cell_type": "code",
   "execution_count": 11,
   "metadata": {},
   "outputs": [
    {
     "name": "stdout",
     "output_type": "stream",
     "text": [
      "55\n"
     ]
    }
   ],
   "source": [
    "\n",
    "from functools import reduce\n",
    "\n",
    "lista = [1,2,3,4,5,6,7,8,9,10]\n",
    "\n",
    "# función que suma todos los elementos\n",
    "def sumatoria(suma = 0, i = 0):\n",
    "   return suma + i\n",
    "\n",
    "# aplicacion de REDUCE\n",
    "print(reduce(sumatoria, lista))\n"
   ]
  },
  {
   "cell_type": "code",
   "execution_count": 15,
   "metadata": {},
   "outputs": [
    {
     "name": "stdout",
     "output_type": "stream",
     "text": [
      "lambda 1015\n"
     ]
    }
   ],
   "source": [
    "sumas = lambda a,b,c,d: a+b+c*d\n",
    "print(\"lambda\", sumas(10,5,10,100))"
   ]
  },
  {
   "cell_type": "code",
   "execution_count": 1,
   "metadata": {},
   "outputs": [
    {
     "name": "stdout",
     "output_type": "stream",
     "text": [
      "<class 'function'>\n"
     ]
    }
   ],
   "source": [
    "def operations(numA, numB, numC):\n",
    " operation1 = numA + numB\n",
    " operation2 = operation1 * numC\n",
    " return operations(operation2,3,5,2)\n",
    "print(type(operations))\n"
   ]
  }
 ],
 "metadata": {
  "kernelspec": {
   "display_name": "Python 3.10.1 64-bit",
   "language": "python",
   "name": "python3"
  },
  "language_info": {
   "codemirror_mode": {
    "name": "ipython",
    "version": 3
   },
   "file_extension": ".py",
   "mimetype": "text/x-python",
   "name": "python",
   "nbconvert_exporter": "python",
   "pygments_lexer": "ipython3",
   "version": "3.10.1 (tags/v3.10.1:2cd268a, Dec  6 2021, 19:10:37) [MSC v.1929 64 bit (AMD64)]"
  },
  "vscode": {
   "interpreter": {
    "hash": "369f2c481f4da34e4445cda3fffd2e751bd1c4d706f27375911949ba6bb62e1c"
   }
  }
 },
 "nbformat": 4,
 "nbformat_minor": 2
}
